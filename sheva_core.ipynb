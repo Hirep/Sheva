{
 "cells": [
  {
   "cell_type": "code",
   "execution_count": 7,
   "metadata": {
    "collapsed": false
   },
   "outputs": [],
   "source": [
    "import pandas as pd\n",
    "from premorph import premorph\n",
    "from morph import *"
   ]
  },
  {
   "cell_type": "markdown",
   "metadata": {},
   "source": [
    "### Init data"
   ]
  },
  {
   "cell_type": "code",
   "execution_count": 20,
   "metadata": {
    "collapsed": false
   },
   "outputs": [],
   "source": [
    "par = pd.read_excel('par_cls.xlsx', encoding='utf-8', header=None)\n",
    "par.columns = ['id', 'role', 'note', 'end']\n",
    "root_dict = pd.read_excel('root_dict.xlsx', encoding='utf-8', header=None)\n",
    "root_dict.columns = ['begin', 'end', 'id']\n",
    "\n",
    "phrase = 'Кохайтеся, чорнобриві, Та не з москалями, Бо москалі — чужі люди, Роблять лихо з вами.'"
   ]
  },
  {
   "cell_type": "code",
   "execution_count": 21,
   "metadata": {
    "collapsed": false,
    "scrolled": true
   },
   "outputs": [
    {
     "name": "stdout",
     "output_type": "stream",
     "text": [
      "кохайтеся, 1, йтеся, None\n",
      "чорнобриві, 2, і, None\n",
      "та, 3, , None\n",
      "не, 4, , None\n",
      "з, 5, , None\n",
      "москалями, 6, ями, None\n",
      "бо, 5, , None\n",
      "москалі, 6, і, None\n",
      "чужі, 2, і, None\n",
      "люди, 7, и, None\n",
      "роблять, 8, лять, None\n",
      "лихо, 9, о, None\n",
      "з, 5, , None\n",
      "вами, 10, ами, None\n"
     ]
    }
   ],
   "source": [
    "# Morpho\n",
    "words = []\n",
    "\n",
    "for i in premorph(phrase):\n",
    "    for word in list(i):\n",
    "        for beg in root_dict['begin']:\n",
    "            if word.startswith(beg):\n",
    "                words.append(Word(\n",
    "                        word,\n",
    "                        int(root_dict.loc[root_dict['begin'] == beg]['id']),\n",
    "                        beg,\n",
    "                        word[len(beg):] if len(word[len(beg):]) > 0 else ''\n",
    "                    ))\n"
   ]
  },
  {
   "cell_type": "code",
   "execution_count": 24,
   "metadata": {
    "collapsed": false
   },
   "outputs": [],
   "source": [
    "for word in words:\n",
    "    for index, row in par.iterrows():\n",
    "        if row['end'] == word.ending and row['id'] == word.id:\n",
    "            word.role = row['role']\n",
    "        elif (type(row['end']) is not str) and row['id'] == word.id and word.ending == '':\n",
    "            word.role = row['role']"
   ]
  },
  {
   "cell_type": "code",
   "execution_count": 25,
   "metadata": {
    "collapsed": false
   },
   "outputs": [
    {
     "name": "stdout",
     "output_type": "stream",
     "text": [
      "кохайтеся ДЛ\n",
      "чорнобриві ПЙ\n",
      "та С\n",
      "не Ч\n",
      "з П\n",
      "москалями ІР\n",
      "бо П\n",
      "москалі ІС\n",
      "чужі ПЙ\n",
      "люди МВ\n",
      "роблять СЧ\n",
      "лихо ЛШ\n",
      "з П\n",
      "вами ЗЕ\n"
     ]
    }
   ],
   "source": [
    "for word in words:\n",
    "    print(word.word, word.role)"
   ]
  },
  {
   "cell_type": "code",
   "execution_count": null,
   "metadata": {
    "collapsed": true
   },
   "outputs": [],
   "source": []
  }
 ],
 "metadata": {
  "hide_input": false,
  "kernelspec": {
   "display_name": "Python 3",
   "language": "python",
   "name": "python3"
  },
  "language_info": {
   "codemirror_mode": {
    "name": "ipython",
    "version": 3
   },
   "file_extension": ".py",
   "mimetype": "text/x-python",
   "name": "python",
   "nbconvert_exporter": "python",
   "pygments_lexer": "ipython3",
   "version": "3.5.2"
  }
 },
 "nbformat": 4,
 "nbformat_minor": 0
}
