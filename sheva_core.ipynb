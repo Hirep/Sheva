{
 "cells": [
  {
   "cell_type": "code",
   "execution_count": 76,
   "metadata": {
    "collapsed": false
   },
   "outputs": [],
   "source": [
    "import pandas as pd\n",
    "import premorph\n",
    "from morph import *"
   ]
  },
  {
   "cell_type": "code",
   "execution_count": 102,
   "metadata": {
    "collapsed": false
   },
   "outputs": [],
   "source": [
    "par = pd.read_excel('par_cls.xlsx', encoding='utf-8', header=None)\n",
    "par.columns = ['id', 'role', 'note', 'end']\n",
    "root_dict = pd.read_excel('root_dict.xlsx', encoding='utf-8', header=None)\n",
    "root_dict.columns = ['begin', 'end', 'id']\n",
    "\n",
    "phrase = 'Кохайтеся чорнобриві, та не з москалями. Москалі лихі люди, роблять лихо з вами.'"
   ]
  },
  {
   "cell_type": "code",
   "execution_count": 103,
   "metadata": {},
   "outputs": [
    {
     "name": "stdout",
     "output_type": "stream",
     "text": [
      "        begin   end  id\n0        коха  тися   1\n1   чорнобрив    ий   2\n2          та   NaN   3\n3          не   NaN   4\n4           з   NaN   5\n5      москал     ь   6\n6          бо   NaN   5\n7         чуж    ий   2\n8         люд     и   7\n9         роб   ити   8\n10        лих     о   9\n11          в     и  10\n"
     ]
    }
   ],
   "source": [
    "print(root_dict)"
   ]
  },
  {
   "cell_type": "code",
   "execution_count": 104,
   "metadata": {
    "collapsed": false,
    "scrolled": true
   },
   "outputs": [],
   "source": [
    "# Morpho\n",
    "words = []\n",
    "\n",
    "for i in premorph.premorph(phrase):\n",
    "    for word in list(i):\n",
    "        for beg in root_dict['begin']:\n",
    "            if word.startswith(beg):\n",
    "                words.append(Word(\n",
    "                        word,\n",
    "                        int(root_dict.loc[root_dict['begin'] == beg]['id']),\n",
    "                        beg,\n",
    "                        word[len(beg):] if len(word[len(beg):]) > 0 else ''\n",
    "                    ))"
   ]
  },
  {
   "cell_type": "code",
   "execution_count": 105,
   "metadata": {
    "collapsed": false
   },
   "outputs": [],
   "source": [
    "for word in words:\n",
    "    for index, row in par.iterrows():\n",
    "        if row['end'] == word.ending and row['id'] == word.id:\n",
    "            word.role = row['role']\n",
    "        elif (type(row['end']) is not str) and row['id'] == word.id and word.ending == '':\n",
    "            word.role = row['role']"
   ]
  },
  {
   "cell_type": "code",
   "execution_count": 100,
   "metadata": {
    "collapsed": false
   },
   "outputs": [
    {
     "name": "stdout",
     "output_type": "stream",
     "text": [
      "кохайтеся ДЛ\nчорнобриві ПЙ\nта С\nне Ч\nз П\nмоскалями ІР\nмоскалі ІС\nлихі None\nлюди МВ\nроблять СЧ\nлихо ЛШ\nз П\nвами ЗЕ\n"
     ]
    }
   ],
   "source": [
    "for word in words:\n",
    "    print(word.word\n",
    "          , word.role)"
   ]
  }
 ],
 "metadata": {
  "hide_input": false,
  "kernelspec": {
   "display_name": "Python 3",
   "language": "python",
   "name": "python3"
  },
  "language_info": {
   "codemirror_mode": {
    "name": "ipython",
    "version": 3.0
   },
   "file_extension": ".py",
   "mimetype": "text/x-python",
   "name": "python",
   "nbconvert_exporter": "python",
   "pygments_lexer": "ipython3",
   "version": "3.5.2"
  }
 },
 "nbformat": 4,
 "nbformat_minor": 0
}