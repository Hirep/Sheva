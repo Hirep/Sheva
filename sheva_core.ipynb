{
 "cells": [
  {
   "cell_type": "code",
   "execution_count": 4,
   "metadata": {
    "collapsed": true
   },
   "outputs": [],
   "source": [
    "import pandas as pd\n",
    "import regex as re"
   ]
  },
  {
   "cell_type": "code",
   "execution_count": 5,
   "metadata": {
    "collapsed": false
   },
   "outputs": [],
   "source": [
    "SENTENCES_RE = '[\\.\\!\\?]+'\n",
    "WORDS_RE = '[^[:alnum:]]+'\n",
    "\n",
    "\n",
    "def split_with_rexp(text, rsplt):\n",
    "    sentences = re.split(rsplt, text.lower())\n",
    "    return (\n",
    "        sentences\n",
    "        if sentences[-1] != ''\n",
    "        else sentences[:-1]\n",
    "    )\n",
    "\n",
    "\n",
    "def split_by_sentences(text):\n",
    "    t = split_with_rexp(text, SENTENCES_RE)\n",
    "    return t\n",
    "\n",
    "\n",
    "def split_by_words(text):\n",
    "    return filter(lambda x: bool(x), split_with_rexp(text, WORDS_RE))\n",
    "\n",
    "\n",
    "def premorph(text):\n",
    "    return map(\n",
    "        split_by_words,\n",
    "        split_by_sentences(text)\n",
    "    )"
   ]
  },
  {
   "cell_type": "code",
   "execution_count": 6,
   "metadata": {
    "collapsed": false
   },
   "outputs": [],
   "source": [
    "par = pd.read_excel('par_cls.xlsx', encoding='utf-8', header=None)\n",
    "par.columns = ['id', 'role', 'note', 'end']\n",
    "fund_dict = pd.read_excel('fund_dict.xlsx', encoding='utf-8', header=None)\n",
    "fund_dict.columns = ['begin', 'end', 'id']\n",
    "\n",
    "phrase = 'Кохайтеся, чорнобриві, Та не з москалями, Бо москалі — чужі люди, Роблять лихо з вами. '"
   ]
  },
  {
   "cell_type": "code",
   "execution_count": 7,
   "metadata": {
    "collapsed": true
   },
   "outputs": [],
   "source": [
    "# Stage 2 Morpho\n",
    "words = []\n",
    "class Word:\n",
    "    def __init__(self, word, id, begin, ending):\n",
    "        self.word = word\n",
    "        self.id = id\n",
    "        self.begin = begin\n",
    "        self.ending = ending\n",
    "        self.role = None\n",
    "        \n",
    "    def __str__(self):\n",
    "        return \"{}, {}, {}, {}\".format(self.word, self.id, self.ending, self.role)"
   ]
  },
  {
   "cell_type": "code",
   "execution_count": 8,
   "metadata": {
    "collapsed": false,
    "scrolled": true
   },
   "outputs": [],
   "source": [
    "for i in premorph(phrase):\n",
    "    for word in list(i):\n",
    "        for beg in fund_dict['begin']:\n",
    "            if not word.find(beg):\n",
    "                words.append(Word(\n",
    "                        word,\n",
    "                        int(fund_dict.loc[fund_dict['begin'] == beg]['id']),\n",
    "                        beg,\n",
    "                        word[len(beg):] if len(word[len(beg):]) > 0 else ''\n",
    "                    ))"
   ]
  },
  {
   "cell_type": "code",
   "execution_count": 9,
   "metadata": {
    "collapsed": false
   },
   "outputs": [],
   "source": [
    "for word in words:\n",
    "    for index, row in par.iterrows():\n",
    "        if row['end'] == word.ending and row['id'] == word.id:\n",
    "            word.role = row['role']\n",
    "        elif (type(row['end']) is not str) and row['id'] == word.id and word.ending == '':\n",
    "            word.role = row['role']"
   ]
  },
  {
   "cell_type": "code",
   "execution_count": 11,
   "metadata": {
    "collapsed": false
   },
   "outputs": [
    {
     "name": "stdout",
     "output_type": "stream",
     "text": [
      "кохайтеся ДЛ\n",
      "чорнобриві ПЙ\n",
      "та С\n",
      "не Ч\n",
      "з П\n",
      "москалями ІР\n",
      "бо П\n",
      "москалі ІС\n",
      "чужі ПЙ\n",
      "люди МВ\n",
      "лихо ЛШ\n",
      "з П\n",
      "вами ЗЕ\n"
     ]
    }
   ],
   "source": [
    "for word in words:\n",
    "    print(word.word, word.role)"
   ]
  },
  {
   "cell_type": "code",
   "execution_count": null,
   "metadata": {
    "collapsed": true
   },
   "outputs": [],
   "source": []
  }
 ],
 "metadata": {
  "kernelspec": {
   "display_name": "Python 3",
   "language": "python",
   "name": "python3"
  },
  "language_info": {
   "codemirror_mode": {
    "name": "ipython",
    "version": 3
   },
   "file_extension": ".py",
   "mimetype": "text/x-python",
   "name": "python",
   "nbconvert_exporter": "python",
   "pygments_lexer": "ipython3",
   "version": "3.5.2"
  }
 },
 "nbformat": 4,
 "nbformat_minor": 0
}
