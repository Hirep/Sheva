{
 "cells": [
  {
   "cell_type": "code",
   "execution_count": 192,
   "metadata": {
    "collapsed": false
   },
   "outputs": [],
   "source": [
    "import pandas as pd\n",
    "import premorph\n",
    "from morph import *"
   ]
  },
  {
   "cell_type": "code",
   "execution_count": 193,
   "metadata": {
    "collapsed": false
   },
   "outputs": [],
   "source": [
    "par = pd.read_excel('par_cls.xlsx', encoding='utf-8', header=None)\n",
    "par.columns = ['id', 'role', 'note', 'end']\n",
    "root_dict = pd.read_excel('root_dict.xlsx', encoding='utf-8', header=None)\n",
    "root_dict.columns = ['begin', 'end', 'id']\n",
    "\n",
    "phrase = 'Кохайтеся чорнобриві, та не з москалями, бо москалі чужі люди, роблять лихо з вами.'"
   ]
  },
  {
   "cell_type": "code",
   "execution_count": 194,
   "metadata": {
    "collapsed": false,
    "scrolled": true
   },
   "outputs": [],
   "source": [
    "# Morpho\n",
    "words = []\n",
    "\n",
    "for i in premorph.premorph(phrase):\n",
    "    for word in list(i):\n",
    "        for beg in root_dict['begin']:\n",
    "            if word.startswith(beg):\n",
    "                words.append(Word(\n",
    "                        word,\n",
    "                        int(root_dict.loc[root_dict['begin'] == beg]['id']),\n",
    "                        beg,\n",
    "                        word[len(beg):] if len(word[len(beg):]) > 0 else ''\n",
    "                    ))"
   ]
  },
  {
   "cell_type": "code",
   "execution_count": 195,
   "metadata": {
    "collapsed": false
   },
   "outputs": [],
   "source": [
    "for word in words:\n",
    "    for index, row in par.iterrows():\n",
    "        if row['end'] == word.ending and row['id'] == word.id:\n",
    "            word.role = row['role']\n",
    "        elif (type(row['end']) is not str) and row['id'] == word.id and word.ending == '':\n",
    "            word.role = row['role']"
   ]
  },
  {
   "cell_type": "code",
   "execution_count": 196,
   "metadata": {
    "collapsed": false
   },
   "outputs": [
    {
     "name": "stdout",
     "output_type": "stream",
     "text": [
      "кохайтеся ДЛ\nчорнобриві ПЙ\nта Я\nне Ч\nз Ю\nмоскалями ІР\nбо ОА\nмоскалі ІС\nчужі КЛ\nлюди МВ\nроблять СЧ\nлихо ЛШ\nз Ю\nвами ЗЕ\n"
     ]
    }
   ],
   "source": [
    "for word in words:\n",
    "    print(word.word, word.role)"
   ]
  },
  {
   "cell_type": "code",
   "execution_count": 197,
   "metadata": {},
   "outputs": [
    {
     "name": "stdout",
     "output_type": "stream",
     "text": [
      "кохайтеся predicate\nчорнобриві subject\nта \nне \nз \nмоскалями object\nбо \nмоскалі subject\nчужі attribute\nлюди subject\nроблять predicate\nлихо object\nз \nвами object\n"
     ]
    }
   ],
   "source": [
    "def cond1(word_role):\n",
    "    list_roles = ['ПГ','ІЙ','ІЗ','ІШ','ІС','МЦ','МВ','ЛА','ПЙ']\n",
    "    cond = [x == word_role for x in list_roles]\n",
    "    for x in cond:\n",
    "        if x:\n",
    "            return True\n",
    "    return False\n",
    "\n",
    "def cond2(word_role):\n",
    "    list_roles = ['ІЦ','ІУ','ІЕ','ІН','ІФ','ІВ','ІП','ІР','МК','МН','МП','МТ','ЛУ','ЛК', \\\n",
    "                'ЛЕ','ЛН','ЛЗ','ЛД','ЛО','ЛР','ЛЦ','ЛЩ','ЛШ','ЗЕ']\n",
    "    cond = [x == word_role for x in list_roles]\n",
    "    for x in cond:\n",
    "        if x:\n",
    "            return True\n",
    "    return False\n",
    "\n",
    "for word in words:\n",
    "    \n",
    "    if word.role[0] == 'Д' or word.role[0] == 'С':\n",
    "        word.syntax_role = 'predicate'\n",
    "    elif cond1(word.role):\n",
    "        word.syntax_role = 'subject'\n",
    "    elif word.role[0] == 'П' or word.role == 'КЛ':\n",
    "        word.syntax_role = 'attribute'\n",
    "    elif cond2(word.role):\n",
    "        word.syntax_role = 'object'\n",
    "    else:\n",
    "        word.syntax_role = ''\n",
    "        \n",
    "for word in words:\n",
    "    print(word.word,word.syntax_role)"
   ]
  },
  {
   "cell_type": "code",
   "execution_count": null,
   "metadata": {},
   "outputs": [],
   "source": [
    ""
   ]
  },
  {
   "cell_type": "code",
   "execution_count": 198,
   "metadata": {},
   "outputs": [],
   "source": [
    "phrase = 'Кохайтеся чорнобриві, та не з москалями. Москалі чужі люди, роблять лихо з вами.'\n",
    "\n",
    "q1 = 'Що не потрібно робити з москалями?'\n",
    "q2 = 'Чому не можна кохатися?'"
   ]
  },
  {
   "cell_type": "code",
   "execution_count": 201,
   "metadata": {},
   "outputs": [
    {
     "ename": "ImportError",
     "evalue": "cannot import name 'find_lang_part'",
     "traceback": [
      "\u001b[0;31m---------------------------------------------------------------------------\u001b[0m",
      "\u001b[0;31mImportError\u001b[0m                               Traceback (most recent call last)",
      "\u001b[0;32m<ipython-input-201-198f59ef162c>\u001b[0m in \u001b[0;36m<module>\u001b[0;34m()\u001b[0m\n\u001b[0;32m----> 1\u001b[0;31m \u001b[0;32mfrom\u001b[0m \u001b[0manswer\u001b[0m \u001b[0;32mimport\u001b[0m \u001b[0;34m*\u001b[0m\u001b[0;34m\u001b[0m\u001b[0m\n\u001b[0m\u001b[1;32m      2\u001b[0m \u001b[0mget_answer\u001b[0m\u001b[0;34m(\u001b[0m\u001b[0mphrase\u001b[0m\u001b[0;34m,\u001b[0m\u001b[0mq1\u001b[0m\u001b[0;34m)\u001b[0m\u001b[0;34m\u001b[0m\u001b[0m\n",
      "\u001b[0;32m/home/dymytr/Projects/Sheva/answer.py\u001b[0m in \u001b[0;36m<module>\u001b[0;34m()\u001b[0m\n\u001b[0;32m----> 1\u001b[0;31m \u001b[0;32mfrom\u001b[0m \u001b[0mparser_diagram\u001b[0m \u001b[0;32mimport\u001b[0m \u001b[0mfind_lang_part\u001b[0m\u001b[0;34m,\u001b[0m \u001b[0mload_dict\u001b[0m\u001b[0;34m\u001b[0m\u001b[0m\n\u001b[0m\u001b[1;32m      2\u001b[0m \u001b[0;34m\u001b[0m\u001b[0m\n\u001b[1;32m      3\u001b[0m \u001b[0mphrase\u001b[0m \u001b[0;34m=\u001b[0m \u001b[0;34m'Кохайтеся чорнобриві, та не з москалями, бо москалі чужі люди, роблять лихо з вами.'\u001b[0m\u001b[0;34m\u001b[0m\u001b[0m\n\u001b[1;32m      4\u001b[0m \u001b[0;34m\u001b[0m\u001b[0m\n\u001b[1;32m      5\u001b[0m \u001b[0mq1\u001b[0m \u001b[0;34m=\u001b[0m \u001b[0;34m'Що не потрібно робити з москалями?'\u001b[0m\u001b[0;34m\u001b[0m\u001b[0m\n",
      "\u001b[0;31mImportError\u001b[0m: cannot import name 'find_lang_part'"
     ],
     "output_type": "error"
    }
   ],
   "source": [
    "from answer import *\n",
    "get_answer(phrase,q1)"
   ]
  },
  {
   "cell_type": "code",
   "execution_count": null,
   "metadata": {},
   "outputs": [],
   "source": [
    ""
   ]
  }
 ],
 "metadata": {
  "hide_input": false,
  "kernelspec": {
   "display_name": "Python 3",
   "language": "python",
   "name": "python3"
  },
  "language_info": {
   "codemirror_mode": {
    "name": "ipython",
    "version": 3.0
   },
   "file_extension": ".py",
   "mimetype": "text/x-python",
   "name": "python",
   "nbconvert_exporter": "python",
   "pygments_lexer": "ipython3",
   "version": "3.5.2"
  }
 },
 "nbformat": 4,
 "nbformat_minor": 0
}